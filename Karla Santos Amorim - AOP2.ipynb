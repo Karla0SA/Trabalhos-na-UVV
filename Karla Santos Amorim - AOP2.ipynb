{
  "nbformat": 4,
  "nbformat_minor": 0,
  "metadata": {
    "colab": {
      "provenance": []
    },
    "kernelspec": {
      "name": "python3",
      "display_name": "Python 3"
    },
    "language_info": {
      "name": "python"
    }
  },
  "cells": [
    {
      "cell_type": "markdown",
      "source": [
        "<?xml version=\"1.0\" encoding=\"UTF-8\"?>\n",
        "<html>\n",
        "  <body>\n",
        "    <header></header>\n",
        "        <CENTER>\n",
        "          <img src=\"https://www.uvv.br/wp-content/themes/uvvBr/templates/assets//img/logouvv.svg\" alt=\"UVV-LOGO\" style = width=\"100px\"; height=\"100px\">\n",
        "        </CENTER>\n",
        "        <CENTER><b>Introdução à Programação de Computadores - PYTHON</b></CENTER>\n",
        "        <CENTER><b>Prof.: Fabricio Ribeiro Ferreira</b>\n",
        "        <CENTER><b>Tutor: Edgar Salardani Senhorello</b>\n",
        "        <CENTER><b>ATIVIDADE ONLINE PONTUADA 2</b></CENTER><br/>"
      ],
      "metadata": {
        "id": "DQK3cj6S3PCI"
      }
    },
    {
      "cell_type": "markdown",
      "source": [
        "Nome do Aluno: Karla Santos Amorim"
      ],
      "metadata": {
        "id": "WPSPpcLu3bu3"
      }
    },
    {
      "cell_type": "code",
      "source": [
        "Aprovado = 0\n",
        "Reprovado = 0\n",
        "\n",
        "for i in range(1,101):\n",
        "    print(f'Aluno {i}: ')\n",
        "\n",
        "    AOP1 = float(input(\"Digite sua nota entre 0 e 1 adquirida na AOP1 (Atividade Online Pontuada 1): \"))\n",
        "    while AOP1 > 1:\n",
        "        print ('Nota deve ser entre 0 e 1.')\n",
        "        AOP1 = float(input(\"Favor digite novamente a nota adquirida na AOP1: \"))\n",
        "\n",
        "    AOP2 = float(input(\"Digite sua nota entre 0 e 2 adquirida na AOP2 (Atividade Online Pontuada 2): \"))\n",
        "    while AOP2 > 2:\n",
        "        print ('Nota deve ser entre 0 e 2.')\n",
        "        AOP2 = float(input(\"Favor digite novamente a nota adquirida na AOP2: \"))\n",
        "\n",
        "    AOP3 = float(input(\"Digite sua nota entre 0 e 1 adquirida na AOP3 (Atividade Online Pontuada 3): \"))\n",
        "    while AOP3 > 1:\n",
        "        print ('Nota deve ser entre 0 e 1.')\n",
        "        AOP3 = float(input(\"Favor digite novamente a nota adquirida na AOP3: \"))\n",
        "\n",
        "    Prova_regular = float(input(\"Digite sua nota entre 0 e 6 adquirida na prova regular: \"))\n",
        "    while Prova_regular > 6:\n",
        "        print ('Nota deve ser entre 0 e 6.')\n",
        "        Prova_regular = float(input(\"Favor digite novamente a nota adquirida na prova regular: \"))\n",
        "\n",
        "    Total = AOP1 + AOP2 + AOP3 + Prova_regular\n",
        "    print(f\"Sua nota total foi de: {Total:.2f}\")\n",
        "\n",
        "    if Total >= 7:\n",
        "        print(\"Status do Aluno: Aprovado\")\n",
        "        Aprovado += 1\n",
        "    elif Total < 3:\n",
        "        print(\"Status do Aluno: Reprovado\")\n",
        "        Reprovado += 1\n",
        "    else:\n",
        "        print(\"Status do Aluno: Prova de recuperação\")\n",
        "\n",
        "        Prova_de_recuperação = float(input(\"Digite sua nota entre 0 e 10 adquirida na prova de recuperação: \"))\n",
        "        while Prova_de_recuperação > 10:\n",
        "            print ('Nota deve ser entre 0 e 10.')\n",
        "            Prova_de_recuperação = float(input(\"Favor digite novamente a nota adquirida na prova de recuperação: \"))\n",
        "\n",
        "        if Prova_de_recuperação >= 5:\n",
        "            print(\"Status do Aluno: Aprovado\")\n",
        "            Aprovado += 1\n",
        "        else:\n",
        "            print(\"Status do Aluno: Reprovado\")\n",
        "            Reprovado += 1\n",
        "\n",
        "total_alunos = 100\n",
        "porcentual_aprovados = (Aprovado / total_alunos) * 100\n",
        "porcentual_reprovados = (Reprovado / total_alunos) * 100\n",
        "\n",
        "print(f\"Alunos aprovados foi de: {porcentual_aprovados}%\")\n",
        "print(f\"Alunos reprovados foi de: {porcentual_reprovados}%\")"
      ],
      "metadata": {
        "id": "laC7GIKD3g5S"
      },
      "execution_count": null,
      "outputs": []
    }
  ]
}